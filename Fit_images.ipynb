{
  "cells": [
    {
      "cell_type": "markdown",
      "id": "815c2f08",
      "metadata": {
        "id": "815c2f08"
      },
      "source": [
        "### Part 1: Fitting a 2D Image"
      ]
    },
    {
      "cell_type": "code",
      "execution_count": 1,
      "id": "a56ff09c",
      "metadata": {
        "colab": {
          "base_uri": "https://localhost:8080/"
        },
        "id": "a56ff09c",
        "outputId": "7f329a80-e35e-458f-ad7c-6cb0542fa6f3"
      },
      "outputs": [
        {
          "name": "stdout",
          "output_type": "stream",
          "text": [
            "cuda\n"
          ]
        }
      ],
      "source": [
        "import numpy as np\n",
        "import os\n",
        "import torch\n",
        "import torch.nn as nn\n",
        "import torch.nn.functional as F\n",
        "import matplotlib.pyplot as plt\n",
        "import imageio.v2 as imageio\n",
        "import time\n",
        "import gdown\n",
        "\n",
        "device = torch.device(\"cuda\" if torch.cuda.is_available() else \"cpu\")\n",
        "print(device)"
      ]
    },
    {
      "cell_type": "markdown",
      "id": "beb91eff",
      "metadata": {
        "id": "beb91eff"
      },
      "source": [
        "We first download the image from the web. We normalize the image so the pixels are in between the range of [0,1]."
      ]
    },
    {
      "cell_type": "code",
      "execution_count": 9,
      "id": "e8a2cbb7",
      "metadata": {
        "colab": {
          "base_uri": "https://localhost:8080/"
        },
        "id": "e8a2cbb7",
        "outputId": "58156c09-0c09-4852-8300-8fd641ca8c61"
      },
      "outputs": [
        {
          "name": "stderr",
          "output_type": "stream",
          "text": [
            "Downloading...\n",
            "From: https://drive.google.com/uc?id=1-0HAp_EA2xBHXaZkJfxIMczBqFseNia6\n",
            "To: /content/starry_night.jpg\n",
            "100%|██████████| 5.65k/5.65k [00:00<00:00, 10.1MB/s]\n"
          ]
        }
      ],
      "source": [
        "url = \"https://drive.google.com/file/d/1-0HAp_EA2xBHXaZkJfxIMczBqFseNia6/view?usp=sharing\"\n",
        "gdown.download(url=url, output='starry_night.jpg', quiet=False, fuzzy=True)\n",
        "\n",
        "# Load painting image\n",
        "painting = imageio.imread(\"starry_night.jpg\")\n",
        "painting = torch.from_numpy(np.array(painting, dtype=np.float32)/255.).to(device)\n",
        "height_painting, width_painting = painting.shape[:2]"
      ]
    },
    {
      "cell_type": "markdown",
      "id": "_sGztcWDahNe",
      "metadata": {
        "id": "_sGztcWDahNe"
      },
      "source": [
        "1.1 Positional encoding is used to map continuous input coordinates into a higher dimensional space to enable a neural network to approximate a higher frequency function."
      ]
    },
    {
      "cell_type": "code",
      "execution_count": 10,
      "id": "dE6mWSWVZGSH",
      "metadata": {
        "id": "dE6mWSWVZGSH"
      },
      "outputs": [],
      "source": [
        "def positional_encoding(x, num_frequencies=6, incl_input=True):\n",
        "\n",
        "    \"\"\"\n",
        "    Apply positional encoding to the input.\n",
        "\n",
        "    Args:\n",
        "    x (torch.Tensor): Input tensor to be positionally encoded.\n",
        "      The dimension of x is [N, D], where N is the number of input coordinates,\n",
        "      and D is the dimension of the input coordinate.\n",
        "    num_frequencies (optional, int): The number of frequencies used in\n",
        "     the positional encoding (default: 6).\n",
        "    incl_input (optional, bool): If True, concatenate the input with the\n",
        "        computed positional encoding (default: True).\n",
        "\n",
        "    Returns:\n",
        "    (torch.Tensor): Positional encoding of the input tensor.\n",
        "    \"\"\"\n",
        "\n",
        "    results = []\n",
        "    if incl_input:\n",
        "        results.append(x)\n",
        "    # encode input tensor and append the encoded tensor to the list of results.\n",
        "    for i in range(num_frequencies):\n",
        "        sin_encoding = torch.sin(2 ** i * np.pi * x)\n",
        "        cos_encoding = torch.cos(2 ** i * np.pi * x)\n",
        "        results.append(sin_encoding)\n",
        "        results.append(cos_encoding)\n",
        "\n",
        "    return torch.cat(results, dim=-1)"
      ]
    },
    {
      "cell_type": "markdown",
      "id": "fgByaKdMal9_",
      "metadata": {
        "id": "fgByaKdMal9_"
      },
      "source": [
        "1.2 Complete the class model_2d() that will be used to fit the 2D image.\n"
      ]
    },
    {
      "cell_type": "code",
      "execution_count": 11,
      "id": "ZmvvIh6FZNz2",
      "metadata": {
        "id": "ZmvvIh6FZNz2"
      },
      "outputs": [],
      "source": [
        "class model_2d(nn.Module):\n",
        "\n",
        "    \"\"\"\n",
        "    Define a 2D model comprising of three fully connected layers,\n",
        "    two relu activations and one sigmoid activation.\n",
        "    \"\"\"\n",
        "\n",
        "    def __init__(self, filter_size=128, num_frequencies=6):\n",
        "        super().__init__()\n",
        "        input_dim = 2 * (1 + 2 * num_frequencies)\n",
        "        self.layer_in = nn.Linear(input_dim, filter_size)\n",
        "        self.layer = nn.Linear(filter_size, filter_size)\n",
        "        self.layer_out = nn.Linear(filter_size, 3)\n",
        "\n",
        "\n",
        "    def forward(self, x):\n",
        "        x = nn.functional.relu(self.layer_in(x))\n",
        "        x = nn.functional.relu(self.layer(x))\n",
        "        x = torch.sigmoid(self.layer_out(x))\n",
        "\n",
        "        return x"
      ]
    },
    {
      "cell_type": "code",
      "execution_count": 12,
      "id": "8GKo7MZAXzBl",
      "metadata": {
        "colab": {
          "base_uri": "https://localhost:8080/"
        },
        "id": "8GKo7MZAXzBl",
        "outputId": "0f3e4a9e-379c-4a60-e9c9-bb2f57d02111"
      },
      "outputs": [
        {
          "data": {
            "text/plain": [
              "model_2d(\n",
              "  (layer_in): Linear(in_features=26, out_features=128, bias=True)\n",
              "  (layer): Linear(in_features=128, out_features=128, bias=True)\n",
              "  (layer_out): Linear(in_features=128, out_features=3, bias=True)\n",
              ")"
            ]
          },
          "execution_count": 12,
          "metadata": {},
          "output_type": "execute_result"
        }
      ],
      "source": [
        "model_2d()"
      ]
    },
    {
      "cell_type": "code",
      "execution_count": 13,
      "id": "-P-B-UL8UCxP",
      "metadata": {
        "id": "-P-B-UL8UCxP"
      },
      "outputs": [],
      "source": [
        "def normalize_coord(height, width, num_frequencies=6):\n",
        "\n",
        "    \"\"\"\n",
        "    Creates the 2D normalized coordinates, and applies positional encoding to them\n",
        "\n",
        "    Args:\n",
        "    height (int): Height of the image\n",
        "    width (int): Width of the image\n",
        "    num_frequencies (optional, int): The number of frequencies used in\n",
        "      the positional encoding (default: 6).\n",
        "\n",
        "    Returns:\n",
        "    (torch.Tensor): Returns the 2D normalized coordinates after applying positional encoding to them.\n",
        "    \"\"\"\n",
        "\n",
        "    y_coords, x_coords = torch.meshgrid(torch.linspace(0, 1, height), torch.linspace(0, 1, width))\n",
        "    coords = torch.stack((x_coords, y_coords), dim=-1).view(-1, 2)\n",
        "\n",
        "    embedded_coordinates = positional_encoding(coords, num_frequencies)\n",
        "\n",
        "    return embedded_coordinates"
      ]
    },
    {
      "cell_type": "markdown",
      "id": "kU0s6ubohFCI",
      "metadata": {
        "id": "kU0s6ubohFCI"
      },
      "source": [
        "Train the model to fit the 2D image."
      ]
    },
    {
      "cell_type": "code",
      "execution_count": 14,
      "id": "c4246817",
      "metadata": {
        "id": "c4246817"
      },
      "outputs": [],
      "source": [
        "def train_2d_model(test_img, num_frequencies, device, model=model_2d, positional_encoding=positional_encoding, show=True):\n",
        "\n",
        "    # Optimizer parameters\n",
        "    lr = 5e-4\n",
        "    iterations = 10000\n",
        "    height, width = test_img.shape[:2]\n",
        "\n",
        "    # Number of iters after which stats are displayed\n",
        "    display = 2000\n",
        "\n",
        "    # Define the model and initialize its weights.\n",
        "    model2d = model(num_frequencies=num_frequencies)\n",
        "    model2d.to(device)\n",
        "\n",
        "    def weights_init(m):\n",
        "        if isinstance(m, nn.Linear):\n",
        "            torch.nn.init.xavier_uniform_(m.weight)\n",
        "\n",
        "    model2d.apply(weights_init)\n",
        "\n",
        "    # Define the optimizer\n",
        "    optimizer = torch.optim.Adam(model2d.parameters(), lr=lr)\n",
        "\n",
        "    # Seed RNG, for repeatability\n",
        "    seed = 5670\n",
        "    torch.manual_seed(seed)\n",
        "    np.random.seed(seed)\n",
        "\n",
        "    # Lists to log metrics etc.\n",
        "    psnrs = []\n",
        "    iternums = []\n",
        "\n",
        "    t = time.time()\n",
        "    t0 = time.time()\n",
        "\n",
        "    # Create the 2D normalized coordinates, and apply positional encoding to them\n",
        "    coords = normalize_coord(height, width, num_frequencies).to(device)\n",
        "\n",
        "    for i in range(iterations+1):\n",
        "        optimizer.zero_grad()\n",
        "        # Run one iteration\n",
        "        pred = model2d(coords).reshape(105, 133, 3)\n",
        "\n",
        "        # Compute mean-squared error between the predicted and target images. Backprop!\n",
        "        loss = F.mse_loss(pred, test_img)\n",
        "        loss.backward()\n",
        "        optimizer.step()\n",
        "\n",
        "\n",
        "        # Display images/plots/stats\n",
        "        if i % display == 0 and show:\n",
        "\n",
        "            # Calculate psnr\n",
        "            mse = loss.item()\n",
        "            psnr = 10 * torch.log10(torch.tensor(1.0) / mse)\n",
        "\n",
        "\n",
        "            print(\"Iteration %d \" % i, \"Loss: %.4f \" % loss.item(), \"PSNR: %.2f\" % psnr.item(), \\\n",
        "                \"Time: %.2f secs per iter\" % ((time.time() - t) / display), \"%.2f secs in total\" % (time.time() - t0))\n",
        "            t = time.time()\n",
        "\n",
        "            psnrs.append(psnr.item())\n",
        "            iternums.append(i)\n",
        "\n",
        "            plt.figure(figsize=(13, 4))\n",
        "            plt.subplot(131)\n",
        "            plt.imshow(pred.detach().cpu().numpy())\n",
        "            plt.title(f\"Iteration {i}\")\n",
        "            plt.subplot(132)\n",
        "            plt.imshow(test_img.cpu().numpy())\n",
        "            plt.title(\"Target image\")\n",
        "            plt.subplot(133)\n",
        "            plt.plot(iternums, psnrs)\n",
        "            plt.title(\"PSNR\")\n",
        "            plt.show()\n",
        "\n",
        "    print('Done!')\n",
        "    torch.save(model2d.state_dict(),'model_2d_' + str(num_frequencies) + 'freq.pt')\n",
        "    plt.imsave('van_gogh_' + str(num_frequencies) + 'freq.png',pred.detach().cpu().numpy())\n",
        "    return pred.detach().cpu()"
      ]
    },
    {
      "cell_type": "code",
      "execution_count": null,
      "id": "8d6804c3",
      "metadata": {
        "colab": {
          "base_uri": "https://localhost:8080/",
          "height": 1000
        },
        "id": "8d6804c3",
        "outputId": "1295a038-1846-4054-e1ea-d74fb0423157",
        "scrolled": true
      },
      "outputs": [],
      "source": [
        "_ = train_2d_model(test_img=painting, num_frequencies=4, device=device)"
      ]
    },
    {
      "cell_type": "markdown",
      "id": "ANL-bU4Q1Eyq",
      "metadata": {
        "id": "ANL-bU4Q1Eyq"
      },
      "source": [
        "### Part 2: Fitting a 3D Image"
      ]
    },
    {
      "cell_type": "code",
      "execution_count": null,
      "id": "_b2W5vDk1Zwa",
      "metadata": {
        "colab": {
          "base_uri": "https://localhost:8080/"
        },
        "id": "_b2W5vDk1Zwa",
        "outputId": "9bced363-9df1-49d9-cbb3-8a6de4f8c752"
      },
      "outputs": [
        {
          "name": "stdout",
          "output_type": "stream",
          "text": [
            "cuda\n"
          ]
        }
      ],
      "source": [
        "import os\n",
        "import gdown\n",
        "import numpy as np\n",
        "import torch\n",
        "import torch.nn as nn\n",
        "import matplotlib.pyplot as plt\n",
        "import torch.nn.functional as F\n",
        "import time\n",
        "\n",
        "device = torch.device(\"cuda\" if torch.cuda.is_available() else \"cpu\")\n",
        "print(device)"
      ]
    },
    {
      "cell_type": "code",
      "execution_count": null,
      "id": "w9QjMp3E1C7a",
      "metadata": {
        "colab": {
          "base_uri": "https://localhost:8080/",
          "height": 104
        },
        "id": "w9QjMp3E1C7a",
        "outputId": "9335ac61-fe0e-4b4d-c1d0-a3b482f798e6"
      },
      "outputs": [
        {
          "name": "stderr",
          "output_type": "stream",
          "text": [
            "Downloading...\n",
            "From: https://drive.google.com/uc?id=13eBK_LWxs4SkruFKH7glKK9jwQU1BkXK\n",
            "To: /content/lego_data.npz\n",
            "100%|██████████| 12.7M/12.7M [00:00<00:00, 58.8MB/s]\n"
          ]
        },
        {
          "data": {
            "application/vnd.google.colaboratory.intrinsic+json": {
              "type": "string"
            },
            "text/plain": [
              "'lego_data.npz'"
            ]
          },
          "execution_count": 28,
          "metadata": {},
          "output_type": "execute_result"
        }
      ],
      "source": [
        "url = \"https://drive.google.com/file/d/13eBK_LWxs4SkruFKH7glKK9jwQU1BkXK/view?usp=sharing\"\n",
        "gdown.download(url=url, output='lego_data.npz', quiet=False, fuzzy=True)"
      ]
    },
    {
      "cell_type": "markdown",
      "id": "A5NK7D7MIvhl",
      "metadata": {
        "id": "A5NK7D7MIvhl"
      },
      "source": [
        "Here, we load the data that is comprised by the images, the R and T matrices of each camera position with respect to the world coordinates and the intrinsics parameters K of the camera."
      ]
    },
    {
      "cell_type": "code",
      "execution_count": null,
      "id": "m0HJOx2_1YWN",
      "metadata": {
        "colab": {
          "base_uri": "https://localhost:8080/",
          "height": 468
        },
        "id": "m0HJOx2_1YWN",
        "outputId": "2a97a78e-bd7c-4628-bb78-19cd547f782f"
      },
      "outputs": [],
      "source": [
        "# Load input images, poses, and intrinsics\n",
        "data = np.load(\"lego_data.npz\")\n",
        "\n",
        "# Images\n",
        "images = data[\"images\"]\n",
        "\n",
        "# Height and width of each image\n",
        "height, width = images.shape[1:3]\n",
        "\n",
        "# Camera extrinsics (poses)\n",
        "poses = data[\"poses\"]\n",
        "poses = torch.from_numpy(poses).to(device)\n",
        "print(poses.shape)\n",
        "\n",
        "# Camera intrinsics\n",
        "intrinsics = data[\"intrinsics\"]\n",
        "intrinsics = torch.from_numpy(intrinsics).to(device)\n",
        "\n",
        "# Hold one image out (for test).\n",
        "test_image, test_pose = images[101], poses[101]\n",
        "test_image = torch.from_numpy(test_image).to(device)\n",
        "\n",
        "# Map images to device\n",
        "images = torch.from_numpy(images[:100, ..., :3]).to(device)\n",
        "\n",
        "plt.imshow(test_image.detach().cpu().numpy())\n",
        "plt.show()\n",
        "\n",
        "print(data)"
      ]
    },
    {
      "cell_type": "markdown",
      "id": "UIOQ2Q-J-d3r",
      "metadata": {
        "id": "UIOQ2Q-J-d3r"
      },
      "source": [
        "2.1 Calculates the rays that pass through all the pixels of an HxW image"
      ]
    },
    {
      "cell_type": "code",
      "execution_count": null,
      "id": "3W8xVj8F2spc",
      "metadata": {
        "id": "3W8xVj8F2spc"
      },
      "outputs": [],
      "source": [
        "def get_rays(height, width, intrinsics, w_R_c, w_T_c):\n",
        "\n",
        "    \"\"\"\n",
        "    Compute the origin and direction of rays passing through all pixels of an image (one ray per pixel).\n",
        "\n",
        "    Args:\n",
        "    height: the height of an image.\n",
        "    width: the width of an image.\n",
        "    intrinsics: camera intrinsics matrix of shape (3, 3).\n",
        "    w_R_c: Rotation matrix of shape (3,3) from camera to world coordinates.\n",
        "    w_T_c: Translation vector of shape (3,1) that transforms\n",
        "\n",
        "    Returns:\n",
        "    ray_origins (torch.Tensor): A tensor of shape (height, width, 3) denoting the centers of\n",
        "      each ray. Note that desipte that all ray share the same origin, here we ask you to return\n",
        "      the ray origin for each ray as (height, width, 3).\n",
        "    ray_directions (torch.Tensor): A tensor of shape (height, width, 3) denoting the\n",
        "      direction of each ray.\n",
        "    \"\"\"\n",
        "\n",
        "    device = intrinsics.device\n",
        "    ray_directions = torch.zeros((height, width, 3), device=device)  # placeholder\n",
        "    ray_origins = torch.zeros((height, width, 3), device=device)  # placeholder\n",
        "\n",
        "    u, v = torch.meshgrid(torch.arange(height,device=device), torch.arange(width,device=device))\n",
        "    u = (u - intrinsics[1,2]) / intrinsics[1,1]\n",
        "    v = (v - intrinsics[0,2]) / intrinsics[0,0]\n",
        "\n",
        "    directions = torch.stack([v, u, torch.ones_like(v)], dim=-1)\n",
        "\n",
        "    ray_directions = torch.einsum('ij,klj->kli', w_R_c, directions)\n",
        "    ray_origins = torch.tile(w_T_c.reshape(1, 3), (height, height, 1))\n",
        "\n",
        "    return ray_origins, ray_directions"
      ]
    },
    {
      "cell_type": "markdown",
      "id": "x6HpVdfGIadm",
      "metadata": {
        "id": "x6HpVdfGIadm"
      },
      "source": [
        "Visualize how the dataset is created, from which point of view each image has been captured for the 3D object. What we want to achieve here, is to being able to interpolate between these given views and synthesize new realistic views of the 3D object."
      ]
    },
    {
      "cell_type": "code",
      "execution_count": null,
      "id": "i7PkKZpa-dCz",
      "metadata": {
        "colab": {
          "base_uri": "https://localhost:8080/",
          "height": 653
        },
        "id": "i7PkKZpa-dCz",
        "outputId": "e79168b6-be57-4e26-a86b-d61789e1a54c"
      },
      "outputs": [
        {
          "data": {
            "image/png": "[encoded data removed]",
            "text/plain": [
              "<Figure size 1200x800 with 1 Axes>"
            ]
          },
          "metadata": {},
          "output_type": "display_data"
        }
      ],
      "source": [
        "def plot_all_poses(poses):\n",
        "\n",
        "    origins = np.array([pose[:3, 3] for pose in poses])\n",
        "    directions = np.array([pose[:3, :3] @ np.array([0, 0, 1]) for pose in poses])\n",
        "\n",
        "    ax = plt.figure(figsize=(12, 8)).add_subplot(projection='3d')\n",
        "    _ = ax.quiver(origins[..., 0].flatten(),\n",
        "                  origins[..., 1].flatten(),\n",
        "                  origins[..., 2].flatten(),\n",
        "                  directions[..., 0].flatten(),\n",
        "                  directions[..., 1].flatten(),\n",
        "                  directions[..., 2].flatten(), length=0.12, normalize=True)\n",
        "    ax.set_xlabel('X')\n",
        "    ax.set_ylabel('Y')\n",
        "    ax.set_zlabel('z')\n",
        "    plt.show()\n",
        "\n",
        "plot_all_poses(data['poses'])"
      ]
    },
    {
      "cell_type": "markdown",
      "id": "AeHgkq9bJAdV",
      "metadata": {
        "id": "AeHgkq9bJAdV"
      },
      "source": [
        "2.2 Implement the sampling of points along a given ray."
      ]
    },
    {
      "cell_type": "code",
      "execution_count": null,
      "id": "aBnHcgzFH3eU",
      "metadata": {
        "id": "aBnHcgzFH3eU"
      },
      "outputs": [],
      "source": [
        "def stratified_sampling(ray_origins, ray_directions, near, far, samples):\n",
        "\n",
        "    \"\"\"\n",
        "    Sample 3D points on the given rays. The near and far variables indicate the bounds of sampling range.\n",
        "\n",
        "    Args:\n",
        "    ray_origins: Origin of each ray in the \"bundle\" as returned by the\n",
        "      get_rays() function. Shape: (height, width, 3).\n",
        "    ray_directions: Direction of each ray in the \"bundle\" as returned by the\n",
        "      get_rays() function. Shape: (height, width, 3).\n",
        "    near: The 'near' extent of the bounding volume.\n",
        "    far:  The 'far' extent of the bounding volume.\n",
        "    samples: Number of samples to be drawn along each ray.\n",
        "\n",
        "    Returns:\n",
        "    ray_points: Query 3D points along each ray. Shape: (height, width, samples, 3).\n",
        "    depth_points: Sampled depth values along each ray. Shape: (height, width, samples).\n",
        "    \"\"\"\n",
        "\n",
        "    height, width, _ = ray_origins.shape\n",
        "\n",
        "    depth_points = torch.linspace(near, far, samples, device=ray_origins.device)\n",
        "    depth_points = depth_points.unsqueeze(0).unsqueeze(0).expand(height, width, samples)\n",
        "\n",
        "    ray_points = ray_origins.unsqueeze(2) + depth_points.unsqueeze(-1) * ray_directions.unsqueeze(2)\n",
        "\n",
        "    return ray_points, depth_points"
      ]
    },
    {
      "cell_type": "markdown",
      "id": "TXdocO-0Nt9I",
      "metadata": {
        "id": "TXdocO-0Nt9I"
      },
      "source": [
        "2.3 Define the network architecture of NeRF along with a function that divided data into chunks to avoid memory leaks during training."
      ]
    },
    {
      "cell_type": "code",
      "execution_count": null,
      "id": "x8D1oOmhJG1i",
      "metadata": {
        "id": "x8D1oOmhJG1i"
      },
      "outputs": [],
      "source": [
        "class nerf_model(nn.Module):\n",
        "\n",
        "    \"\"\"\n",
        "    Define a NeRF model comprising eight fully connected layers and following the\n",
        "    architecture described in the NeRF paper.\n",
        "    \"\"\"\n",
        "\n",
        "    def __init__(self, filter_size=256, num_x_frequencies=6, num_d_frequencies=3):\n",
        "        super().__init__()\n",
        "\n",
        "        self.layers = nn.ModuleDict({\n",
        "            'layer_1': nn.Linear(3 * num_x_frequencies * 2 + 3, filter_size),\n",
        "            'layer_2': nn.Linear(filter_size, filter_size),\n",
        "            'layer_3': nn.Linear(filter_size, filter_size),\n",
        "            'layer_4': nn.Linear(filter_size, filter_size),\n",
        "            'layer_5': nn.Linear(filter_size, filter_size),\n",
        "            'layer_6': nn.Linear(filter_size+3 * num_x_frequencies * 2 + 3, filter_size),\n",
        "            'layer_7': nn.Linear(filter_size, filter_size),\n",
        "            'layer_8': nn.Linear(filter_size, filter_size),\n",
        "            'layer_s': nn.Linear(filter_size, 1),\n",
        "            'layer_9': nn.Linear(filter_size, filter_size),\n",
        "            'layer_10': nn.Linear(filter_size+3 * num_d_frequencies * 2 + 3, 128),\n",
        "            'layer_11': nn.Linear(128, 3),\n",
        "        })\n",
        "\n",
        "\n",
        "\n",
        "    def forward(self, x, d):\n",
        "        x_encoded = x\n",
        "        for i in range(1, 6):\n",
        "            x_encoded = F.relu(self.layers[f'layer_{i}'](x_encoded))\n",
        "        x_encoded = torch.cat([x_encoded, x], dim=-1)\n",
        "        for i in range(6, 9):\n",
        "            x_encoded = F.relu(self.layers[f'layer_{i}'](x_encoded))\n",
        "\n",
        "        sigma = self.layers['layer_s'](x_encoded)\n",
        "        x_encoded = self.layers['layer_9'](x_encoded)\n",
        "        x_encoded = torch.cat([x_encoded, d], dim=-1)\n",
        "        x_encoded = F.relu(self.layers['layer_10'](x_encoded))\n",
        "        rgb = torch.sigmoid(self.layers['layer_11'](x_encoded))\n",
        "\n",
        "        return rgb, sigma"
      ]
    },
    {
      "cell_type": "code",
      "execution_count": null,
      "id": "tdNYUL_CJLcP",
      "metadata": {
        "id": "tdNYUL_CJLcP"
      },
      "outputs": [],
      "source": [
        "def get_batches(ray_points, ray_directions, num_x_frequencies, num_d_frequencies):\n",
        "\n",
        "    def get_chunks(inputs, chunksize = 2**15):\n",
        "        \"\"\"\n",
        "        This fuction gets an array/list as input and returns a list of chunks of the initial array/list\n",
        "        \"\"\"\n",
        "        return [inputs[i:i + chunksize] for i in range(0, inputs.shape[0], chunksize)]\n",
        "\n",
        "    \"\"\"\n",
        "    This function returns chunks of the ray points and directions to avoid memory errors with the\n",
        "    neural network. It also applies positional encoding to the input points and directions before\n",
        "    dividing them into chunks, as well as normalizing and populating the directions.\n",
        "    \"\"\"\n",
        "    norms = torch.norm(ray_directions, dim=-1, keepdim=True)\n",
        "    normalized_directions = ray_directions / norms\n",
        "\n",
        "    replicated_directions = normalized_directions.unsqueeze(-2).repeat(1, 1, ray_points.shape[2], 1)\n",
        "\n",
        "    flattened_ray_points = ray_points.reshape(-1, 3)\n",
        "    flattened_ray_directions = replicated_directions.reshape(-1, 3)\n",
        "\n",
        "    encoded_ray_points = positional_encoding(flattened_ray_points, num_x_frequencies)\n",
        "    encoded_ray_directions = positional_encoding(flattened_ray_directions, num_d_frequencies)\n",
        "\n",
        "    ray_points_batches = get_chunks(encoded_ray_points)\n",
        "    ray_directions_batches = get_chunks(encoded_ray_directions)\n",
        "\n",
        "\n",
        "    return ray_points_batches, ray_directions_batches"
      ]
    },
    {
      "cell_type": "markdown",
      "id": "TsJ-JomiNc64",
      "metadata": {
        "id": "TsJ-JomiNc64"
      },
      "source": [
        "2.4 Compute the compositing weights of samples on camera ray and then complete the volumetric rendering procedure to reconstruct a whole RGB image from the sampled points and the outputs of the neural network."
      ]
    },
    {
      "cell_type": "code",
      "execution_count": null,
      "id": "FH8pa9vOMWhf",
      "metadata": {
        "id": "FH8pa9vOMWhf"
      },
      "outputs": [],
      "source": [
        "def volumetric_rendering(rgb, sigma, depth_points):\n",
        "\n",
        "    \"\"\"\n",
        "    Differentiably renders a radiance field, given the origin of each ray in the\n",
        "    \"bundle\", and the sampled depth values along them.\n",
        "\n",
        "    Args:\n",
        "    rgb: RGB color at each query location (X, Y, Z). Shape: (height, width, samples, 3).\n",
        "    sigma: Volume density at each query location (X, Y, Z). Shape: (height, width, samples).\n",
        "    depth_points: Sampled depth values along each ray. Shape: (height, width, samples).\n",
        "\n",
        "    Returns:\n",
        "    rec_image: The reconstructed image after applying the volumetric rendering to every pixel.\n",
        "    Shape: (height, width, 3)\n",
        "    \"\"\"\n",
        "\n",
        "    sigma = torch.nn.functional.relu(sigma)\n",
        "    s = torch.full(depth_points[..., :1].shape, 1e9).to(device)\n",
        "    delta_i = torch.cat([depth_points[..., 1:] - depth_points[..., :-1], s], dim=-1)\n",
        "\n",
        "    alpha = 1 - torch.exp(-sigma * delta_i)\n",
        "    T_i = torch.cumprod(torch.cat([torch.ones_like(alpha[..., :1]), 1 - alpha + 1e-10], -1), -1)[..., :-1]\n",
        "\n",
        "    T_i = T_i.unsqueeze(-1)\n",
        "    alpha = alpha.unsqueeze(-1)\n",
        "    rec_image = torch.sum(T_i * alpha * rgb, dim=-2)\n",
        "\n",
        "\n",
        "    return rec_image"
      ]
    },
    {
      "cell_type": "markdown",
      "id": "GzqJyWOmOFK2",
      "metadata": {
        "id": "GzqJyWOmOFK2"
      },
      "source": [
        "2.5 Combine everything together. Given the pose position of a camera, compute the camera rays and sample the 3D points along these rays. Divide those points into batches and feed them to the neural network. Concatenate them and use them for the volumetric rendering to reconstructed the final image."
      ]
    },
    {
      "cell_type": "code",
      "execution_count": null,
      "id": "VQ786JH1M-dk",
      "metadata": {
        "id": "VQ786JH1M-dk"
      },
      "outputs": [],
      "source": [
        "def one_forward_pass(height, width, intrinsics, pose, near, far, samples, model, num_x_frequencies, num_d_frequencies):\n",
        "\n",
        "    #compute all the rays from the image\n",
        "    w_R_c = pose[:3, :3]\n",
        "    w_T_c = pose[:3, 3]\n",
        "    ray_origins, ray_directions = get_rays(height, width, intrinsics, w_R_c, w_T_c)\n",
        "\n",
        "    #sample the points from the rays\n",
        "    ray_points, depth_points = stratified_sampling(ray_origins, ray_directions, near, far, samples)\n",
        "\n",
        "    #divide data into batches to avoid memory errors\n",
        "    ray_batches, ray_dir_batches = get_batches(ray_points, ray_directions, num_x_frequencies, num_d_frequencies)\n",
        "    ray_batches = [batch.to(torch.float32) for batch in ray_batches]\n",
        "    ray_dir_batches = [dir_batch.to(torch.float32) for dir_batch in ray_dir_batches]\n",
        "\n",
        "    #forward pass the batches and concatenate the outputs at the end\n",
        "    all_rgb = []\n",
        "    all_sigma = []\n",
        "\n",
        "    for ray_points, ray_directions in zip(ray_batches, ray_dir_batches):\n",
        "        rgb_batch, sigma_batch = model(ray_points, ray_directions)\n",
        "        all_rgb.append(rgb_batch)\n",
        "        all_sigma.append(sigma_batch)\n",
        "\n",
        "    rgb = torch.cat(all_rgb, dim=0)\n",
        "    sigma = torch.cat(all_sigma, dim=0)\n",
        "    rgb = rgb.reshape(height, width, samples, 3)\n",
        "    sigma = sigma.reshape(height, width, samples)\n",
        "\n",
        "    # Apply volumetric rendering to obtain the reconstructed image\n",
        "    rec_image = volumetric_rendering(rgb, sigma, depth_points)\n",
        "\n",
        "    return rec_image"
      ]
    },
    {
      "cell_type": "markdown",
      "id": "hJcDeS8eO-eu",
      "metadata": {
        "id": "hJcDeS8eO-eu"
      },
      "source": [
        "Train a NeRF!"
      ]
    },
    {
      "cell_type": "code",
      "execution_count": null,
      "id": "tRImUa2VOGw5",
      "metadata": {
        "id": "tRImUa2VOGw5"
      },
      "outputs": [],
      "source": [
        "num_x_frequencies = 10\n",
        "num_d_frequencies = 4\n",
        "learning_rate  = 5e-4\n",
        "iterations = 3000\n",
        "samples = 64\n",
        "display = 25\n",
        "near = 0.667\n",
        "far = 2\n",
        "\n",
        "model = nerf_model(num_x_frequencies=num_x_frequencies,num_d_frequencies=num_d_frequencies).to(device)\n",
        "\n",
        "def weights_init(m):\n",
        "    if isinstance(m, torch.nn.Linear):\n",
        "        torch.nn.init.xavier_uniform_(m.weight)\n",
        "model.apply(weights_init)\n",
        "\n",
        "optimizer = torch.optim.Adam(model.parameters(), lr=learning_rate)\n",
        "\n",
        "psnrs = []\n",
        "iternums = []\n",
        "\n",
        "t = time.time()\n",
        "t0 = time.time()"
      ]
    },
    {
      "cell_type": "code",
      "execution_count": null,
      "id": "WMjGXxNkPtZx",
      "metadata": {
        "colab": {
          "base_uri": "https://localhost:8080/",
          "height": 1000
        },
        "id": "WMjGXxNkPtZx",
        "outputId": "3576671f-82ca-4fa0-cbb8-d0d136b2da95"
      },
      "outputs": [],
      "source": [
        "for i in range(iterations+1):\n",
        "\n",
        "    optimizer.zero_grad()\n",
        "    #choose randomly a picture for the forward pass\n",
        "    random_index = np.random.randint(images.shape[0])\n",
        "    train_image, train_pose = images[random_index], poses[random_index]\n",
        "    train_image.to(device)\n",
        "    train_pose.to(device)\n",
        "\n",
        "    # Run one iteration of NeRF and get the rendered RGB image.\n",
        "    rec_image = one_forward_pass(train_image.shape[0],train_image.shape[1], intrinsics, train_pose, near, far, samples, model, num_x_frequencies, num_d_frequencies)\n",
        "\n",
        "    # Compute mean-squared error between the predicted and target images. Backprop!\n",
        "    loss = F.mse_loss(rec_image, train_image)\n",
        "    loss.backward()\n",
        "    optimizer.step()\n",
        "\n",
        "    # Display images/plots/stats\n",
        "    if i % display == 0:\n",
        "        with torch.no_grad():\n",
        "\n",
        "        # Render the held-out view\n",
        "          test_rec_image = one_forward_pass(test_image.shape[0], test_image.shape[1], intrinsics, test_pose, near, far, samples, model, num_x_frequencies, num_d_frequencies)\n",
        "\n",
        "        #calculate the loss and the psnr between the original test image and the reconstructed one.\n",
        "          test_loss = F.mse_loss(test_rec_image, test_image)\n",
        "          psnr = 10 * torch.log10(torch.tensor(1.0) / loss)\n",
        "\n",
        "\n",
        "        print(\"Iteration %d \" % i, \"Loss: %.4f \" % loss.item(), \"PSNR: %.2f \" % psnr.item(), \\\n",
        "                \"Time: %.2f secs per iter, \" % ((time.time() - t) / display), \"%.2f mins in total\" % ((time.time() - t0)/60))\n",
        "\n",
        "        t = time.time()\n",
        "        psnrs.append(psnr.item())\n",
        "        iternums.append(i)\n",
        "\n",
        "        plt.figure(figsize=(16, 4))\n",
        "        plt.subplot(141)\n",
        "        plt.imshow(test_rec_image.detach().cpu().numpy())\n",
        "        plt.title(f\"Iteration {i}\")\n",
        "        plt.subplot(142)\n",
        "        plt.imshow(test_image.detach().cpu().numpy())\n",
        "        plt.title(\"Target image\")\n",
        "        plt.subplot(143)\n",
        "        plt.plot(iternums, psnrs)\n",
        "        plt.title(\"PSNR\")\n",
        "        plt.show()\n",
        "\n",
        "plt.imsave('test_lego.png',test_rec_image.detach().cpu().numpy())\n",
        "torch.save(model.state_dict(),'model_nerf.pt')\n",
        "print('Done!')"
      ]
    },
    {
      "cell_type": "code",
      "execution_count": null,
      "id": "AxKI-DCc4pcH",
      "metadata": {
        "id": "AxKI-DCc4pcH"
      },
      "outputs": [],
      "source": [
        "# To release cache if needed\n",
        "import torch, gc\n",
        "gc.collect()\n",
        "torch.cuda.empty_cache()"
      ]
    }
  ],
  "metadata": {
    "accelerator": "GPU",
    "colab": {
      "gpuType": "T4",
      "provenance": []
    },
    "kernelspec": {
      "display_name": "Python 3",
      "name": "python3"
    },
    "language_info": {
      "codemirror_mode": {
        "name": "ipython",
        "version": 3
      },
      "file_extension": ".py",
      "mimetype": "text/x-python",
      "name": "python",
      "nbconvert_exporter": "python",
      "pygments_lexer": "ipython3",
      "version": "3.9.10"
    }
  },
  "nbformat": 4,
  "nbformat_minor": 5
}
